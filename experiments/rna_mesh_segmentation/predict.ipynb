{
 "cells": [
  {
   "cell_type": "code",
   "execution_count": 11,
   "metadata": {},
   "outputs": [],
   "source": [
    "import os\n",
    "import sys\n",
    "import torch\n",
    "import numpy as np\n",
    "import potpourri3d as pp3d\n",
    "import matplotlib.pyplot as plt\n",
    "from mpl_toolkits.mplot3d import Axes3D\n",
    "\n",
    "# Add the path to DiffusionNet src\n",
    "sys.path.append(os.path.join(os.path.dirname(os.getcwd()), \"../../src/\"))\n",
    "import diffusion_net"
   ]
  },
  {
   "cell_type": "code",
   "execution_count": 12,
   "metadata": {},
   "outputs": [],
   "source": [
    "# Set up parameters\n",
    "model_path = \"data/saved_models/sal_model.pth\"  # Replace with your model path\n",
    "mesh_file = \"data/saliency_data/ply/bimba.ply\"    # Replace with your mesh file path\n",
    "input_features = 'xyz'  # or 'hks'\n",
    "k_eig = 128"
   ]
  },
  {
   "cell_type": "code",
   "execution_count": 13,
   "metadata": {},
   "outputs": [
    {
     "name": "stdout",
     "output_type": "stream",
     "text": [
      "Using device: cpu\n"
     ]
    }
   ],
   "source": [
    "# Set device\n",
    "device = torch.device('cuda' if torch.cuda.is_available() else 'cpu')\n",
    "print(f\"Using device: {device}\")"
   ]
  },
  {
   "cell_type": "code",
   "execution_count": 14,
   "metadata": {},
   "outputs": [
    {
     "name": "stdout",
     "output_type": "stream",
     "text": [
      "Model loaded successfully\n"
     ]
    }
   ],
   "source": [
    "# Load the model\n",
    "def load_model(model_path, input_features, device):\n",
    "    C_in = {'xyz': 3, 'hks': 16}[input_features]\n",
    "    model = diffusion_net.layers.DiffusionNet(\n",
    "        C_in=C_in, C_out=1, C_width=128, N_block=4,\n",
    "        outputs_at='vertices', dropout=True\n",
    "    )\n",
    "    model.load_state_dict(torch.load(model_path, map_location=device))\n",
    "    model.to(device)\n",
    "    model.eval()\n",
    "    return model\n",
    "\n",
    "model = load_model(model_path, input_features, device)\n",
    "print(\"Model loaded successfully\")"
   ]
  },
  {
   "cell_type": "code",
   "execution_count": 15,
   "metadata": {},
   "outputs": [
    {
     "name": "stdout",
     "output_type": "stream",
     "text": [
      "Mesh data prepared\n"
     ]
    }
   ],
   "source": [
    "# Prepare mesh data\n",
    "def prepare_mesh_data(mesh_file, k_eig=128):\n",
    "    verts, faces = pp3d.read_mesh(mesh_file)\n",
    "    verts = torch.tensor(verts).float()\n",
    "    faces = torch.tensor(faces)\n",
    "    verts = diffusion_net.geometry.normalize_positions(verts)\n",
    "    \n",
    "    frames, mass, L, evals, evecs, gradX, gradY = diffusion_net.geometry.get_operators(verts, faces, k_eig=k_eig)\n",
    "    return verts, faces, frames, mass, L, evals, evecs, gradX, gradY\n",
    "\n",
    "verts, faces, frames, mass, L, evals, evecs, gradX, gradY = prepare_mesh_data(mesh_file, k_eig)\n",
    "print(\"Mesh data prepared\")"
   ]
  },
  {
   "cell_type": "code",
   "execution_count": 16,
   "metadata": {},
   "outputs": [],
   "source": [
    "# Move data to device\n",
    "verts = verts.to(device)\n",
    "mass = mass.to(device)\n",
    "L = L.to(device)\n",
    "evals = evals.to(device)\n",
    "evecs = evecs.to(device)\n",
    "gradX = gradX.to(device)\n",
    "gradY = gradY.to(device)"
   ]
  },
  {
   "cell_type": "code",
   "execution_count": 17,
   "metadata": {},
   "outputs": [
    {
     "name": "stdout",
     "output_type": "stream",
     "text": [
      "Predictions made\n"
     ]
    }
   ],
   "source": [
    "# Make predictions\n",
    "def predict(model, verts, mass, L, evals, evecs, gradX, gradY, input_features):\n",
    "    with torch.no_grad():\n",
    "        if input_features == 'xyz':\n",
    "            features = verts\n",
    "        elif input_features == 'hks':\n",
    "            features = diffusion_net.geometry.compute_hks_autoscale(evals, evecs, 16)\n",
    "        \n",
    "        predictions = model(features, mass, L=L, evals=evals, evecs=evecs, gradX=gradX, gradY=gradY)\n",
    "    return predictions.squeeze().cpu().numpy()\n",
    "\n",
    "predictions = predict(model, verts, mass, L, evals, evecs, gradX, gradY, input_features)\n",
    "print(\"Predictions made\")"
   ]
  },
  {
   "cell_type": "code",
   "execution_count": 23,
   "metadata": {},
   "outputs": [
    {
     "data": {
      "text/plain": [
       "(0.999584, 0.99999577)"
      ]
     },
     "execution_count": 23,
     "metadata": {},
     "output_type": "execute_result"
    }
   ],
   "source": [
    "np.min(predictions), np.max(predictions)"
   ]
  },
  {
   "cell_type": "code",
   "execution_count": null,
   "metadata": {},
   "outputs": [],
   "source": []
  }
 ],
 "metadata": {
  "kernelspec": {
   "display_name": "diffusion_net",
   "language": "python",
   "name": "python3"
  },
  "language_info": {
   "codemirror_mode": {
    "name": "ipython",
    "version": 3
   },
   "file_extension": ".py",
   "mimetype": "text/x-python",
   "name": "python",
   "nbconvert_exporter": "python",
   "pygments_lexer": "ipython3",
   "version": "3.8.8"
  }
 },
 "nbformat": 4,
 "nbformat_minor": 2
}
