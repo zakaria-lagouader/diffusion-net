{
 "cells": [
  {
   "cell_type": "code",
   "execution_count": 1,
   "metadata": {},
   "outputs": [],
   "source": [
    "import numpy as np\n",
    "import glob\n",
    "import os"
   ]
  },
  {
   "cell_type": "code",
   "execution_count": 2,
   "metadata": {},
   "outputs": [],
   "source": [
    "bins = np.linspace(0, 1, 32)\n",
    "val_files = glob.glob('./*.txt')"
   ]
  },
  {
   "cell_type": "code",
   "execution_count": 3,
   "metadata": {},
   "outputs": [
    {
     "name": "stdout",
     "output_type": "stream",
     "text": [
      "Converted .\\airplane_decimated.txt\n",
      "Converted .\\amphora_decimated.txt\n",
      "Converted .\\ant_decimated.txt\n",
      "Converted .\\armadillo_decimated.txt\n",
      "Converted .\\bimba_decimated.txt\n",
      "Converted .\\bird_decimated.txt\n",
      "Converted .\\blade_decimated.txt\n",
      "Converted .\\buddha_decimated.txt\n",
      "Converted .\\bunny_decimated.txt\n",
      "Converted .\\bust_decimated.txt\n",
      "Converted .\\cactus_decimated.txt\n",
      "Converted .\\camel_decimated.txt\n",
      "Converted .\\chair_decimated.txt\n",
      "Converted .\\cow_decimated.txt\n",
      "Converted .\\cup_decimated.txt\n",
      "Converted .\\dinosaur_decimated.txt\n",
      "Converted .\\dog_decimated.txt\n",
      "Converted .\\fandisk_decimated.txt\n",
      "Converted .\\fertilty_decimated.txt\n",
      "Converted .\\fish_decimated.txt\n",
      "Converted .\\gargoyle_decimated.txt\n",
      "Converted .\\glass_decimated.txt\n",
      "Converted .\\hand_decimated.txt\n",
      "Converted .\\horse_decimated.txt\n",
      "Converted .\\human_decimated.txt\n",
      "Converted .\\igea_decimated.txt\n",
      "Converted .\\isis_decimated.txt\n",
      "Converted .\\kitten_decimated.txt\n",
      "Converted .\\lucy_decimated.txt\n",
      "Converted .\\maxplanck_decimated.txt\n",
      "Converted .\\octopus_decimated.txt\n",
      "Converted .\\plier_decimated.txt\n",
      "Converted .\\propeller_decimated.txt\n",
      "Converted .\\rabbit_decimated.txt\n",
      "Converted .\\santa_decimated.txt\n",
      "Converted .\\sappho_decimated.txt\n",
      "Converted .\\screwdriver_decimated.txt\n",
      "Converted .\\shape_decimated.txt\n",
      "Converted .\\shell_decimated.txt\n",
      "Converted .\\shoe_decimated.txt\n",
      "Converted .\\skeleton_decimated.txt\n",
      "Converted .\\skull_decimated.txt\n",
      "Converted .\\spider_decimated.txt\n",
      "Converted .\\table_decimated.txt\n",
      "Converted .\\teapot_decimated.txt\n",
      "Converted .\\teddy_decimated.txt\n",
      "Converted .\\teeth_decimated.txt\n",
      "Converted .\\vase_decimated.txt\n",
      "Converted .\\wrench_decimated.txt\n"
     ]
    }
   ],
   "source": [
    "for file in val_files:\n",
    "    data = np.digitize(np.loadtxt(file), bins)\n",
    "    np.savetxt(os.path.basename(file).replace('.val', '.txt'), data, fmt='%d')\n",
    "    print('Converted', file)"
   ]
  },
  {
   "cell_type": "code",
   "execution_count": null,
   "metadata": {},
   "outputs": [],
   "source": []
  }
 ],
 "metadata": {
  "kernelspec": {
   "display_name": "diffusion_net",
   "language": "python",
   "name": "python3"
  },
  "language_info": {
   "codemirror_mode": {
    "name": "ipython",
    "version": 3
   },
   "file_extension": ".py",
   "mimetype": "text/x-python",
   "name": "python",
   "nbconvert_exporter": "python",
   "pygments_lexer": "ipython3",
   "version": "3.8.8"
  }
 },
 "nbformat": 4,
 "nbformat_minor": 2
}
