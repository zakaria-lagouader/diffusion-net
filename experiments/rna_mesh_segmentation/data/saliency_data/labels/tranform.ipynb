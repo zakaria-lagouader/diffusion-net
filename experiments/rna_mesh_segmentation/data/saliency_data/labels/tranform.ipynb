{
 "cells": [
  {
   "cell_type": "code",
   "execution_count": 1,
   "metadata": {},
   "outputs": [],
   "source": [
    "import glob\n",
    "import os\n",
    "import numpy as np"
   ]
  },
  {
   "cell_type": "code",
   "execution_count": 2,
   "metadata": {},
   "outputs": [],
   "source": [
    "val_files = glob.glob('./*.txt')"
   ]
  },
  {
   "cell_type": "code",
   "execution_count": 15,
   "metadata": {},
   "outputs": [],
   "source": [
    "bins = np.linspace(0, 1, 100)\n",
    "for file in val_files:\n",
    "    data = np.digitize(np.loadtxt(file), bins=bins)\n",
    "    np.savetxt(os.path.basename(file).replace('.val', '.txt'), data, fmt='%d')"
   ]
  },
  {
   "cell_type": "code",
   "execution_count": 3,
   "metadata": {},
   "outputs": [
    {
     "name": "stdout",
     "output_type": "stream",
     "text": [
      "1.0 100.0\n",
      "1.0 100.0\n",
      "1.0 100.0\n",
      "1.0 100.0\n",
      "1.0 100.0\n",
      "1.0 100.0\n",
      "1.0 100.0\n",
      "1.0 100.0\n",
      "1.0 100.0\n",
      "1.0 100.0\n",
      "1.0 100.0\n",
      "1.0 100.0\n",
      "1.0 100.0\n",
      "1.0 100.0\n",
      "1.0 100.0\n",
      "1.0 100.0\n",
      "1.0 100.0\n",
      "1.0 100.0\n",
      "1.0 100.0\n",
      "1.0 100.0\n",
      "1.0 100.0\n",
      "1.0 100.0\n",
      "1.0 100.0\n",
      "1.0 100.0\n",
      "1.0 100.0\n",
      "1.0 100.0\n",
      "1.0 100.0\n",
      "1.0 100.0\n",
      "1.0 100.0\n",
      "1.0 100.0\n",
      "1.0 100.0\n",
      "1.0 100.0\n",
      "1.0 100.0\n",
      "1.0 100.0\n",
      "1.0 100.0\n",
      "1.0 100.0\n",
      "1.0 100.0\n",
      "1.0 100.0\n",
      "1.0 100.0\n",
      "1.0 100.0\n",
      "1.0 100.0\n",
      "1.0 100.0\n",
      "1.0 100.0\n",
      "1.0 100.0\n",
      "1.0 100.0\n",
      "1.0 100.0\n",
      "1.0 100.0\n",
      "1.0 100.0\n",
      "1.0 100.0\n"
     ]
    }
   ],
   "source": [
    "for file in val_files:\n",
    "    data = np.loadtxt(file)\n",
    "    print(np.min(data), np.max(data))"
   ]
  },
  {
   "cell_type": "code",
   "execution_count": null,
   "metadata": {},
   "outputs": [],
   "source": []
  }
 ],
 "metadata": {
  "kernelspec": {
   "display_name": "diffusion_net",
   "language": "python",
   "name": "python3"
  },
  "language_info": {
   "codemirror_mode": {
    "name": "ipython",
    "version": 3
   },
   "file_extension": ".py",
   "mimetype": "text/x-python",
   "name": "python",
   "nbconvert_exporter": "python",
   "pygments_lexer": "ipython3",
   "version": "3.8.8"
  }
 },
 "nbformat": 4,
 "nbformat_minor": 2
}
