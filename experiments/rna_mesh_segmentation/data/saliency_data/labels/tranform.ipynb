{
 "cells": [
  {
   "cell_type": "code",
   "execution_count": 10,
   "metadata": {},
   "outputs": [],
   "source": [
    "import glob\n",
    "import os\n",
    "import numpy as np"
   ]
  },
  {
   "cell_type": "code",
   "execution_count": 3,
   "metadata": {},
   "outputs": [],
   "source": [
    "val_files = glob.glob('./*.val')"
   ]
  },
  {
   "cell_type": "code",
   "execution_count": 15,
   "metadata": {},
   "outputs": [],
   "source": [
    "bins = np.linspace(0, 1, 100)\n",
    "for file in val_files:\n",
    "    data = np.digitize(np.loadtxt(file), bins=bins)\n",
    "    np.savetxt(os.path.basename(file).replace('.val', '.txt'), data, fmt='%d')"
   ]
  },
  {
   "cell_type": "code",
   "execution_count": 12,
   "metadata": {},
   "outputs": [
    {
     "data": {
      "text/plain": [
       "'airplane.txt'"
      ]
     },
     "execution_count": 12,
     "metadata": {},
     "output_type": "execute_result"
    }
   ],
   "source": [
    "os.path.basename(val_files[0]).replace('.val', '.txt')"
   ]
  },
  {
   "cell_type": "code",
   "execution_count": 14,
   "metadata": {},
   "outputs": [
    {
     "data": {
      "text/plain": [
       "array([0.        , 0.03225806, 0.06451613, 0.09677419, 0.12903226,\n",
       "       0.16129032, 0.19354839, 0.22580645, 0.25806452, 0.29032258,\n",
       "       0.32258065, 0.35483871, 0.38709677, 0.41935484, 0.4516129 ,\n",
       "       0.48387097, 0.51612903, 0.5483871 , 0.58064516, 0.61290323,\n",
       "       0.64516129, 0.67741935, 0.70967742, 0.74193548, 0.77419355,\n",
       "       0.80645161, 0.83870968, 0.87096774, 0.90322581, 0.93548387,\n",
       "       0.96774194, 1.        ])"
      ]
     },
     "execution_count": 14,
     "metadata": {},
     "output_type": "execute_result"
    }
   ],
   "source": [
    "bins"
   ]
  },
  {
   "cell_type": "code",
   "execution_count": null,
   "metadata": {},
   "outputs": [],
   "source": []
  }
 ],
 "metadata": {
  "kernelspec": {
   "display_name": "diffusion_net",
   "language": "python",
   "name": "python3"
  },
  "language_info": {
   "codemirror_mode": {
    "name": "ipython",
    "version": 3
   },
   "file_extension": ".py",
   "mimetype": "text/x-python",
   "name": "python",
   "nbconvert_exporter": "python",
   "pygments_lexer": "ipython3",
   "version": "3.8.8"
  }
 },
 "nbformat": 4,
 "nbformat_minor": 2
}
